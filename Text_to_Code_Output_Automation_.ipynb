{
  "nbformat": 4,
  "nbformat_minor": 0,
  "metadata": {
    "colab": {
      "provenance": []
    },
    "kernelspec": {
      "name": "python3",
      "display_name": "Python 3"
    },
    "language_info": {
      "name": "python"
    }
  },
  "cells": [
    {
      "cell_type": "code",
      "execution_count": 1,
      "metadata": {
        "colab": {
          "base_uri": "https://localhost:8080/"
        },
        "id": "RbaIzA7F9Ec9",
        "outputId": "588625f6-f7b0-47bd-9c81-356317a3f651"
      },
      "outputs": [
        {
          "output_type": "stream",
          "name": "stdout",
          "text": [
            "Collecting openai\n",
            "  Downloading openai-0.27.8-py3-none-any.whl (73 kB)\n",
            "\u001b[?25l     \u001b[90m━━━━━━━━━━━━━━━━━━━━━━━━━━━━━━━━━━━━━━━━\u001b[0m \u001b[32m0.0/73.6 kB\u001b[0m \u001b[31m?\u001b[0m eta \u001b[36m-:--:--\u001b[0m\r\u001b[2K     \u001b[91m━━━━━━━━━━━━━━━━━━━━━━━━━━━━━━━━━━━━━━\u001b[0m\u001b[91m╸\u001b[0m\u001b[90m━\u001b[0m \u001b[32m71.7/73.6 kB\u001b[0m \u001b[31m2.6 MB/s\u001b[0m eta \u001b[36m0:00:01\u001b[0m\r\u001b[2K     \u001b[90m━━━━━━━━━━━━━━━━━━━━━━━━━━━━━━━━━━━━━━━━\u001b[0m \u001b[32m73.6/73.6 kB\u001b[0m \u001b[31m1.8 MB/s\u001b[0m eta \u001b[36m0:00:00\u001b[0m\n",
            "\u001b[?25hRequirement already satisfied: requests>=2.20 in /usr/local/lib/python3.10/dist-packages (from openai) (2.31.0)\n",
            "Requirement already satisfied: tqdm in /usr/local/lib/python3.10/dist-packages (from openai) (4.66.1)\n",
            "Requirement already satisfied: aiohttp in /usr/local/lib/python3.10/dist-packages (from openai) (3.8.5)\n",
            "Requirement already satisfied: charset-normalizer<4,>=2 in /usr/local/lib/python3.10/dist-packages (from requests>=2.20->openai) (3.2.0)\n",
            "Requirement already satisfied: idna<4,>=2.5 in /usr/local/lib/python3.10/dist-packages (from requests>=2.20->openai) (3.4)\n",
            "Requirement already satisfied: urllib3<3,>=1.21.1 in /usr/local/lib/python3.10/dist-packages (from requests>=2.20->openai) (2.0.4)\n",
            "Requirement already satisfied: certifi>=2017.4.17 in /usr/local/lib/python3.10/dist-packages (from requests>=2.20->openai) (2023.7.22)\n",
            "Requirement already satisfied: attrs>=17.3.0 in /usr/local/lib/python3.10/dist-packages (from aiohttp->openai) (23.1.0)\n",
            "Requirement already satisfied: multidict<7.0,>=4.5 in /usr/local/lib/python3.10/dist-packages (from aiohttp->openai) (6.0.4)\n",
            "Requirement already satisfied: async-timeout<5.0,>=4.0.0a3 in /usr/local/lib/python3.10/dist-packages (from aiohttp->openai) (4.0.3)\n",
            "Requirement already satisfied: yarl<2.0,>=1.0 in /usr/local/lib/python3.10/dist-packages (from aiohttp->openai) (1.9.2)\n",
            "Requirement already satisfied: frozenlist>=1.1.1 in /usr/local/lib/python3.10/dist-packages (from aiohttp->openai) (1.4.0)\n",
            "Requirement already satisfied: aiosignal>=1.1.2 in /usr/local/lib/python3.10/dist-packages (from aiohttp->openai) (1.3.1)\n",
            "Installing collected packages: openai\n",
            "Successfully installed openai-0.27.8\n"
          ]
        }
      ],
      "source": [
        "!pip install openai\n",
        "import openai\n",
        "openai.api_key = \"YOUR_API_KEY\""
      ]
    },
    {
      "cell_type": "code",
      "source": [
        "from io import StringIO\n",
        "import sys\n",
        "from typing import Dict, Optional\n",
        "import sys\n",
        "import subprocess"
      ],
      "metadata": {
        "id": "EgB7_isu9KsA"
      },
      "execution_count": 2,
      "outputs": []
    },
    {
      "cell_type": "code",
      "source": [
        "class PythonREPL:\n",
        "    \"\"\"Simulates a standalone Python REPL.\"\"\"\n",
        "\n",
        "    def __init__(self):\n",
        "        pass\n",
        "\n",
        "    def run(self, command: str) -> str:\n",
        "        \"\"\"Run command and returns anything printed.\"\"\"\n",
        "        sys.stderr.write(\"EXECUTING PYTHON CODE:\\n---\\n\" + command + \"\\n---\\n\")\n",
        "        old_stdout = sys.stdout\n",
        "        sys.stdout = mystdout = StringIO()\n",
        "        try:\n",
        "            exec(command, globals())\n",
        "            sys.stdout = old_stdout\n",
        "            output = mystdout.getvalue() ## # Retrieve the entire content of the file.\n",
        "        except Exception as e:\n",
        "            sys.stdout = old_stdout\n",
        "            output = str(e)\n",
        "        sys.stderr.write(\"PYTHON OUTPUT: \\\"\" + output + \"\\\"\\n\")\n",
        "        return output"
      ],
      "metadata": {
        "id": "6jP8GZye9NS3"
      },
      "execution_count": 3,
      "outputs": []
    },
    {
      "cell_type": "code",
      "source": [
        "import re\n",
        "def extract_content(text):\n",
        "    # Define the regular expression pattern\n",
        "    pattern = r\"```(.*?)```\"\n",
        "    # Find all matches in the text\n",
        "    matches = re.findall(pattern, text, flags=re.DOTALL)\n",
        "    # Return a list of matched contents\n",
        "    return matches\n",
        "def remove_python(text):\n",
        "    # Replace 'python' with an empty string in the first line\n",
        "    first_line = text.split('\\n')[0].replace('python', '')\n",
        "    # Join the first line with the rest of the text\n",
        "    new_text = '\\n'.join([first_line] + text.split('\\n')[1:])\n",
        "    # Return the new text\n",
        "    return new_text\n"
      ],
      "metadata": {
        "id": "nE0IC7_09Wkb"
      },
      "execution_count": 4,
      "outputs": []
    },
    {
      "cell_type": "code",
      "source": [
        "def dependency_install(code):\n",
        "  prompt = f'''You are a helpful assistant who looks at the code passed {code}, and prints the dependencies that need to be installed before the code can be executed.\n",
        "  Include only the basic dependencies in the above list those can be actually installed using `pip install dependecy i` and doesnt raise any error.\n",
        "  Your output should be in the given format:\n",
        "\n",
        "  dependency 1\n",
        "  dependency 2\n",
        "  denpendecy 3\n",
        "  '''\n",
        "  # Example OpenAI Python library request\n",
        "  MODEL = \"gpt-4\"\n",
        "  response = openai.ChatCompletion.create(\n",
        "      model=MODEL,\n",
        "      messages=[\n",
        "          {\"role\": \"system\", \"content\": prompt}\n",
        "      ],\n",
        "      temperature=0,\n",
        "  )\n",
        "\n",
        "  for dependency in response['choices'][0][\"message\"][\"content\"].split():\n",
        "    subprocess.check_call([sys.executable, '-m', 'pip', 'install', dependency])\n",
        "  return print(\"Successfully installed Dependencies!\")"
      ],
      "metadata": {
        "id": "aqfqCs7L9oUD"
      },
      "execution_count": 5,
      "outputs": []
    },
    {
      "cell_type": "code",
      "source": [
        "def code_r(prompt):\n",
        "\n",
        "  inst = f''' You're expert code assistant. You will be provided with a prompt {prompt}.\n",
        "  1. You're to understand prompt infromation.\n",
        "  2. Using prompt, generate appropriate code which should perform the action mentioned in the prompt.\n",
        "  3. Always verify your code is working then only return it.\n",
        "  4. Don't include the keyword 'python'.\n",
        "  5. Code inside (```,```) should always be working. It should not have keywords like \"python\"\n",
        "  6. Write a print statement if required to display the answer\n",
        "  '''\n",
        "  # Example OpenAI Python library request\n",
        "  MODEL = \"gpt-4\"\n",
        "  response = openai.ChatCompletion.create(\n",
        "      model=MODEL,\n",
        "      messages=[\n",
        "          {\"role\": \"system\", \"content\": inst}\n",
        "      ],\n",
        "      temperature=0,\n",
        "  )\n",
        "  es = extract_content(response['choices'][0][\"message\"][\"content\"])\n",
        "  text = remove_python(es[0])\n",
        "  dependency_install(text)\n",
        "  repl = PythonREPL()\n",
        "  return repl.run(text)\n",
        ""
      ],
      "metadata": {
        "id": "R1q4fd8K9cA2"
      },
      "execution_count": 60,
      "outputs": []
    },
    {
      "cell_type": "code",
      "source": [
        "prompt = \"\"\" Write a code showing a plot with x-axis as x = [1,2,3,3] and y-axis y = [1,2,3,4]\"\"\""
      ],
      "metadata": {
        "id": "HWQ1SPWh9pCz"
      },
      "execution_count": 61,
      "outputs": []
    },
    {
      "cell_type": "code",
      "source": [
        "code_r(prompt)"
      ],
      "metadata": {
        "colab": {
          "base_uri": "https://localhost:8080/",
          "height": 801
        },
        "id": "DkRtGyXPC_Hc",
        "outputId": "91b3938f-a041-4af6-8486-36a2b0e4a1a6"
      },
      "execution_count": 62,
      "outputs": [
        {
          "output_type": "stream",
          "name": "stdout",
          "text": [
            "Successfully installed Dependencies!\n"
          ]
        },
        {
          "output_type": "stream",
          "name": "stderr",
          "text": [
            "EXECUTING PYTHON CODE:\n",
            "---\n",
            "\n",
            "import matplotlib.pyplot as plt\n",
            "\n",
            "x = [1,2,3,3]\n",
            "y = [1,2,3,4]\n",
            "\n",
            "plt.plot(x, y)\n",
            "plt.xlabel('x')\n",
            "plt.ylabel('y')\n",
            "plt.title('Plot of y vs x')\n",
            "plt.show()\n",
            "\n",
            "---\n"
          ]
        },
        {
          "output_type": "display_data",
          "data": {
            "text/plain": [
              "<Figure size 640x480 with 1 Axes>"
            ],
            "image/png": "[encoded data removed]"
          },
          "metadata": {}
        },
        {
          "output_type": "stream",
          "name": "stderr",
          "text": [
            "PYTHON OUTPUT: \"\"\n"
          ]
        },
        {
          "output_type": "execute_result",
          "data": {
            "text/plain": [
              "''"
            ],
            "application/vnd.google.colaboratory.intrinsic+json": {
              "type": "string"
            }
          },
          "metadata": {},
          "execution_count": 62
        }
      ]
    },
    {
      "cell_type": "code",
      "source": [],
      "metadata": {
        "id": "T5lSGgy1ARG6"
      },
      "execution_count": null,
      "outputs": []
    }
  ]
}